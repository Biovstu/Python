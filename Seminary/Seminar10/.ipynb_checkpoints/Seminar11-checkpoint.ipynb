{
 "cells": [
  {
   "cell_type": "code",
   "execution_count": 1,
   "id": "ae2530ef",
   "metadata": {},
   "outputs": [
    {
     "data": {
      "text/plain": [
       "'\\nДана функция f(x) = 5x^2 + 10x - 30\\n\\n1. Определить корни\\n2. Найти интервалы, на которых функция возрастает\\n3. Найти интервалы, на которых функция убывает\\n4. Построить график\\n5. Вычислить вершину\\n6. Определить промежутки, на котором f > 0\\n7. Определить промежутки, на котором f < 0\\n'"
      ]
     },
     "execution_count": 1,
     "metadata": {},
     "output_type": "execute_result"
    }
   ],
   "source": [
    "'''\n",
    "Дана функция f(x) = 5x^2 + 10x - 30\n",
    "\n",
    "1. Определить корни\n",
    "2. Найти интервалы, на которых функция возрастает\n",
    "3. Найти интервалы, на которых функция убывает\n",
    "4. Построить график\n",
    "5. Вычислить вершину\n",
    "6. Определить промежутки, на котором f > 0\n",
    "7. Определить промежутки, на котором f < 0\n",
    "'''"
   ]
  },
  {
   "cell_type": "code",
   "execution_count": 2,
   "id": "ac399750",
   "metadata": {},
   "outputs": [],
   "source": [
    "import sympy"
   ]
  },
  {
   "cell_type": "code",
   "execution_count": 3,
   "id": "bce5e8f3",
   "metadata": {},
   "outputs": [],
   "source": [
    "x = sympy.Symbol('x')"
   ]
  },
  {
   "cell_type": "code",
   "execution_count": 35,
   "id": "cd3b5df7",
   "metadata": {},
   "outputs": [
    {
     "name": "stdout",
     "output_type": "stream",
     "text": [
      "5*x**2 + 10*x - 30\n"
     ]
    }
   ],
   "source": [
    "f_x = 5 * x ** 2 + 10 * x - 30\n",
    "print(f_x)"
   ]
  },
  {
   "cell_type": "markdown",
   "id": "cacb5797",
   "metadata": {},
   "source": [
    "#1. Определить корни"
   ]
  },
  {
   "cell_type": "code",
   "execution_count": 38,
   "id": "b83dbead",
   "metadata": {},
   "outputs": [
    {
     "name": "stdout",
     "output_type": "stream",
     "text": [
      "[-sqrt(7) - 1, -1 + sqrt(7)]\n"
     ]
    }
   ],
   "source": [
    "zeros = sorted(sympy.solve(f_x, x))\n",
    "print(zeros)"
   ]
  },
  {
   "cell_type": "markdown",
   "id": "8e5f7ad9",
   "metadata": {},
   "source": [
    "2. Найти интервалы, на которых функция возрастает"
   ]
  },
  {
   "cell_type": "code",
   "execution_count": 8,
   "id": "6ba52b00",
   "metadata": {},
   "outputs": [
    {
     "name": "stdout",
     "output_type": "stream",
     "text": [
      "10*x + 10\n"
     ]
    }
   ],
   "source": [
    "diff_f_x = f_x.diff(x)\n",
    "print(diff_f_x)"
   ]
  },
  {
   "cell_type": "code",
   "execution_count": 9,
   "id": "de1869f1",
   "metadata": {},
   "outputs": [
    {
     "name": "stdout",
     "output_type": "stream",
     "text": [
      "[-1]\n"
     ]
    }
   ],
   "source": [
    "diff_zeros = sympy.solve(diff_f_x, x)\n",
    "print(diff_zeros)"
   ]
  },
  {
   "cell_type": "code",
   "execution_count": 12,
   "id": "c8613388",
   "metadata": {},
   "outputs": [
    {
     "name": "stdout",
     "output_type": "stream",
     "text": [
      "-10\n"
     ]
    }
   ],
   "source": [
    "print(diff_f_x.subs(x, diff_zeros[0] - 1))"
   ]
  },
  {
   "cell_type": "markdown",
   "id": "4b87f713",
   "metadata": {},
   "source": [
    "3. Найти интервалы, на которых функция убывает"
   ]
  },
  {
   "cell_type": "code",
   "execution_count": 13,
   "id": "93486499",
   "metadata": {},
   "outputs": [
    {
     "name": "stdout",
     "output_type": "stream",
     "text": [
      "10\n"
     ]
    }
   ],
   "source": [
    "print(diff_f_x.subs(x, diff_zeros[0] + 1))"
   ]
  },
  {
   "cell_type": "markdown",
   "id": "01ff0547",
   "metadata": {},
   "source": [
    "4. Построить график"
   ]
  },
  {
   "cell_type": "code",
   "execution_count": 14,
   "id": "14c5f92a",
   "metadata": {},
   "outputs": [
    {
     "data": {
      "image/png": "[encoded data removed]",
      "text/plain": [
       "<Figure size 640x480 with 1 Axes>"
      ]
     },
     "metadata": {},
     "output_type": "display_data"
    },
    {
     "data": {
      "text/plain": [
       "<sympy.plotting.plot.Plot at 0x27304321720>"
      ]
     },
     "execution_count": 14,
     "metadata": {},
     "output_type": "execute_result"
    }
   ],
   "source": [
    "sympy.plotting.plot(f_x)"
   ]
  },
  {
   "cell_type": "markdown",
   "id": "1b24d7ce",
   "metadata": {},
   "source": [
    "5. Вычислить вершину"
   ]
  },
  {
   "cell_type": "code",
   "execution_count": 16,
   "id": "c7476397",
   "metadata": {},
   "outputs": [
    {
     "name": "stdout",
     "output_type": "stream",
     "text": [
      "-35\n"
     ]
    }
   ],
   "source": [
    "print(f_x.subs(x, diff_zeros[0]))"
   ]
  },
  {
   "cell_type": "code",
   "execution_count": 40,
   "id": "12fb6ebe",
   "metadata": {},
   "outputs": [
    {
     "name": "stdout",
     "output_type": "stream",
     "text": [
      "[-sqrt(7) - 1, -1 + sqrt(7)] 5*x**2 + 10*x - 30\n",
      "31.4575131106459\n",
      "-35.0000000000000\n",
      "31.4575131106459\n"
     ]
    }
   ],
   "source": [
    "print(zeros, f_x)\n",
    "for index, i in enumerate(zeros):\n",
    "    if index == 0:\n",
    "        print(f_x.subs(x, i - 1).evalf())\n",
    "        print(f_x.subs(x, (i + zeros[index + 1]) / 2).evalf())\n",
    "    elif index == len(zeros) - 1:\n",
    "        print(f_x.subs(x, i + 1).evalf())\n",
    "    else:\n",
    "        print(f_x.subs(x, (i + zeros[index + 1]) / 2).evalf())"
   ]
  },
  {
   "cell_type": "code",
   "execution_count": null,
   "id": "709a9fb5",
   "metadata": {},
   "outputs": [],
   "source": []
  }
 ],
 "metadata": {
  "kernelspec": {
   "display_name": "Python 3 (ipykernel)",
   "language": "python",
   "name": "python3"
  },
  "language_info": {
   "codemirror_mode": {
    "name": "ipython",
    "version": 3
   },
   "file_extension": ".py",
   "mimetype": "text/x-python",
   "name": "python",
   "nbconvert_exporter": "python",
   "pygments_lexer": "ipython3",
   "version": "3.10.7"
  }
 },
 "nbformat": 4,
 "nbformat_minor": 5
}
